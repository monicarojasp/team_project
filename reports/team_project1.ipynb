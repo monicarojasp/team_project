{
 "cells": [
  {
   "cell_type": "markdown",
   "metadata": {},
   "source": [
    "# Gene expression profiles to identify cancer types"
   ]
  },
  {
   "cell_type": "markdown",
   "metadata": {},
   "source": [
    "## Importing Libraries"
   ]
  },
  {
   "cell_type": "code",
   "execution_count": null,
   "metadata": {},
   "outputs": [],
   "source": [
    "#data manipulation\n",
    "import pandas as pd\n",
    "import numpy as np\n",
    "\n",
    "#data visualization\n",
    "import matplotlib.pyplot as plt\n",
    "import seaborn as sns\n",
    "\n",
    "#preprocessing\n",
    "from sklearn.model_selection import train_test_split\n",
    "from sklearn.preprocessing import LabelEncoder\n",
    "from sklearn.preprocessing import MinMaxScaler\n",
    "import statsmodels.api as sm\n",
    "\n",
    "\n",
    "from sklearn.linear_model import LinearRegression\n",
    "from sklearn.metrics import mean_squared_error"
   ]
  },
  {
   "cell_type": "markdown",
   "metadata": {},
   "source": [
    "## Reading the data file"
   ]
  },
  {
   "cell_type": "code",
   "execution_count": null,
   "metadata": {},
   "outputs": [],
   "source": [
    "#read data from github?\n",
    "dt = pd.read_csv('data.csv', index_col = 0)\n",
    "lb = pd.read_csv('labels.csv', index_col = 0)"
   ]
  },
  {
   "cell_type": "markdown",
   "metadata": {},
   "source": [
    "## Data exploration and cleaning"
   ]
  },
  {
   "cell_type": "code",
   "execution_count": null,
   "metadata": {},
   "outputs": [],
   "source": [
    "#merging the data with labels\n",
    "\n",
    "data_frame = pd.merge(dt, lb, left_index=True, right_index=True)\n",
    "print(data_frame.columns)\n",
    "print (data_frame.shape)\n",
    "\n",
    "#Rename last column as Cancer_Type\n",
    "data_frame = data_frame.rename(columns={'Class': 'Cancer_Type'})\n",
    "print(data_frame.columns)"
   ]
  },
  {
   "cell_type": "code",
   "execution_count": null,
   "metadata": {},
   "outputs": [],
   "source": [
    "#Check for missing values - this summs the amount of null occurrences in the data set and safe the columns with null values in variable null\n",
    "datanull = data_frame.isnull().sum() \n",
    "null = [i for i in datanull if i > 0]\n",
    "\n",
    "print('The columns with missing values are:%d'%len(null))"
   ]
  },
  {
   "cell_type": "code",
   "execution_count": null,
   "metadata": {},
   "outputs": [],
   "source": [
    "#Checking how many type of cancer we have\n",
    "print(data_frame['Cancer_Type'].value_counts())\n",
    "\n",
    "#Visualizing\n",
    "data_frame['Cancer_Type'].value_counts().plot.bar(color='purple')\n",
    "\n",
    "# Add labels and title\n",
    "plt.xlabel('Cancer Types')\n",
    "plt.ylabel('# samples per type')\n",
    "plt.title('Amount of samples per cancer type')"
   ]
  },
  {
   "cell_type": "markdown",
   "metadata": {},
   "source": [
    "The different amount of samples per cancer type is an indication of class invalanze, we will have to select a model that accounts for this. But in this exercise we are going to use a regresion."
   ]
  },
  {
   "cell_type": "code",
   "execution_count": null,
   "metadata": {},
   "outputs": [],
   "source": [
    "#Separating feature values from class (cancer type)\n",
    "X = data_frame.iloc[:, :-1]  # Features (gene expression levels)\n",
    "y = data_frame.iloc[:, -1]   # Target variable (last column)\n"
   ]
  },
  {
   "cell_type": "markdown",
   "metadata": {},
   "source": [
    "## Encoding the lables \n",
    "Since the class (cancer type) is categorical we will need to convert (encode) them to numeric to be able to perform the analysis."
   ]
  },
  {
   "cell_type": "code",
   "execution_count": null,
   "metadata": {},
   "outputs": [],
   "source": [
    "#using LabelEncoder from sklearn \n",
    "label_encoder = LabelEncoder()\n",
    "label_encoder.fit(y)\n",
    "y_encoded = label_encoder.transform(y)\n",
    "labels = label_encoder.classes_\n",
    "classes = np.unique(y_encoded)\n",
    "print(labels)\n",
    "print(classes)"
   ]
  },
  {
   "cell_type": "code",
   "execution_count": null,
   "metadata": {},
   "outputs": [],
   "source": [
    "label_encoder = LabelEncoder()\n",
    "y_encoded = label_encoder.fit_transform(y)\n",
    "\n",
    "#regression model \n",
    "X = sm.add_constant(X)  # Add intercept\n",
    "model = sm.OLS(y_encoded, X).fit()\n",
    "\n",
    "print(model.summary())"
   ]
  },
  {
   "cell_type": "code",
   "execution_count": null,
   "metadata": {},
   "outputs": [],
   "source": [
    "#spliting the data into training and testing sets\n",
    "X_train, X_test, y_train, y_test = train_test_split(X,y_encoded,test_size=0.2, random_state=42)\n"
   ]
  }
 ],
 "metadata": {
  "language_info": {
   "name": "python"
  }
 },
 "nbformat": 4,
 "nbformat_minor": 2
}
